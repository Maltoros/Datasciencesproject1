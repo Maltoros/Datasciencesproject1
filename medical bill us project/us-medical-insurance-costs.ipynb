{
 "cells": [
  {
   "cell_type": "markdown",
   "metadata": {},
   "source": [
    "# U.S. Medical Insurance Costs"
   ]
  },
  {
   "cell_type": "markdown",
   "metadata": {},
   "source": [
    "In this project we will analyse the dataset insurance.csv and follow the project tasks and create a few functions to analyze some of the statistics.\n",
    "In this first code block we will analyze the average age."
   ]
  },
  {
   "cell_type": "code",
   "execution_count": 59,
   "metadata": {},
   "outputs": [
    {
     "name": "stdout",
     "output_type": "stream",
     "text": [
      "The average age is 39.21\n"
     ]
    }
   ],
   "source": [
    "import csv\n",
    "\n",
    "def calculate_average_age(dictionary):\n",
    "    average_age = 0\n",
    "    count = 0\n",
    "    for row in dictionary:\n",
    "        average_age += int(row['age'])\n",
    "        count += 1\n",
    "    return round(average_age / count, 2)\n",
    "\n",
    "with open('insurance.csv', newline='') as insurance_file:\n",
    "    insurance_reader = csv.DictReader(insurance_file)\n",
    "    print(f\"The average age is {calculate_average_age(insurance_reader)}\")"
   ]
  },
  {
   "cell_type": "markdown",
   "metadata": {},
   "source": [
    "In this second code block we will analyze the number of people coming from each of the four regions in the dataset."
   ]
  },
  {
   "cell_type": "code",
   "execution_count": 60,
   "metadata": {},
   "outputs": [
    {
     "name": "stdout",
     "output_type": "stream",
     "text": [
      "{'southwest': 325, 'southeast': 364, 'northwest': 325, 'northeast': 324}\n"
     ]
    }
   ],
   "source": [
    "def people_per_region(dictionary):\n",
    "    regions = {}\n",
    "    for row in dictionary:\n",
    "        regions[row['region']] = regions.get(row['region'], 0) + 1\n",
    "    return regions\n",
    "\n",
    "with open('insurance.csv', newline='') as insurance_file:\n",
    "    insurance_reader = csv.DictReader(insurance_file)\n",
    "    print(people_per_region(insurance_reader))"
   ]
  },
  {
   "cell_type": "markdown",
   "metadata": {},
   "source": [
    "As we can see it is pretty well distributed among the different regions.\n",
    "In this third code block we will analyze the difference between the average cost of a smoker and of a non-smoker. "
   ]
  },
  {
   "cell_type": "code",
   "execution_count": 61,
   "metadata": {},
   "outputs": [
    {
     "name": "stdout",
     "output_type": "stream",
     "text": [
      "The number of smokers is 274 and they pay an average of 32050.23 ; While the number of non-smokers if 1064 and they pay an average of 8434.27\n"
     ]
    }
   ],
   "source": [
    "def cost_difference(dictionary):\n",
    "    average_non_smoker = 0\n",
    "    count_non_smoker = 0\n",
    "\n",
    "    average_smoker = 0\n",
    "    count_smoker = 0\n",
    "    \n",
    "    for row in dictionary:\n",
    "        if row['smoker'] == 'yes':\n",
    "            average_smoker += float(row['charges'])\n",
    "            count_smoker += 1\n",
    "        elif row['smoker'] == 'no':\n",
    "            average_non_smoker += float(row['charges'])\n",
    "            count_non_smoker += 1\n",
    "    return f\"The number of smokers is {count_smoker} and they pay an average of {round(average_smoker / count_smoker, 2)} ; While the number of non-smokers if {count_non_smoker} and they pay an average of {round(average_non_smoker / count_non_smoker, 2)}\"\n",
    "\n",
    "with open('insurance.csv', newline='') as insurance_file:\n",
    "    insurance_reader = csv.DictReader(insurance_file)\n",
    "    print(cost_difference(insurance_reader))"
   ]
  },
  {
   "cell_type": "markdown",
   "metadata": {},
   "source": [
    "The smokers pay a lot more than non-smokers on average as we can see from the results."
   ]
  },
  {
   "cell_type": "code",
   "execution_count": 62,
   "metadata": {},
   "outputs": [
    {
     "name": "stdout",
     "output_type": "stream",
     "text": [
      "The average charges for someone with at least one child is 13949.94, while the average for someone without a child is 12365.98.\n"
     ]
    }
   ],
   "source": [
    "def charges_with_one_children(dictionary):\n",
    "    with_children_count = 0\n",
    "    with_children_charges = 0\n",
    "\n",
    "    no_children_count = 0\n",
    "    no_children_charges = 0\n",
    "\n",
    "    for row in dictionary:\n",
    "        if int(row['children']) > 0:\n",
    "            with_children_charges += float(row['charges'])\n",
    "            with_children_count += 1\n",
    "        elif int(row['children']) == 0:\n",
    "            no_children_charges += float(row['charges'])\n",
    "            no_children_count += 1\n",
    "\n",
    "    return f\"The average charges for someone with at least one child is {round(with_children_charges / with_children_count, 2)}, while the average for someone without a child is {round(no_children_charges / no_children_count, 2)}.\"\n",
    "\n",
    "with open('insurance.csv', newline='') as insurance_file:\n",
    "    insurance_reader = csv.DictReader(insurance_file)\n",
    "    print(charges_with_one_children(insurance_reader))"
   ]
  },
  {
   "cell_type": "markdown",
   "metadata": {},
   "source": [
    "As we can see the average charge when you have at least one child is also pretty high, but the difference compared to someone without a child is not that far off."
   ]
  }
 ],
 "metadata": {
  "kernelspec": {
   "display_name": "Python 3.10.5 ('datascience': venv)",
   "language": "python",
   "name": "python3"
  },
  "language_info": {
   "codemirror_mode": {
    "name": "ipython",
    "version": 3
   },
   "file_extension": ".py",
   "mimetype": "text/x-python",
   "name": "python",
   "nbconvert_exporter": "python",
   "pygments_lexer": "ipython3",
   "version": "3.10.5"
  },
  "vscode": {
   "interpreter": {
    "hash": "038b1f96fb097976cee6a870e628b218bb356ddebab42cd987876ec112a9350f"
   }
  }
 },
 "nbformat": 4,
 "nbformat_minor": 4
}
